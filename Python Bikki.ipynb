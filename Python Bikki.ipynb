{
    "cells": [
        {
            "cell_type": "markdown",
            "metadata": {
                "collapsed": true
            },
            "source": "# My Jupyter Notebook on IBM Watson Studio"
        },
        {
            "cell_type": "markdown",
            "metadata": {},
            "source": "## Bikram Tamang"
        },
        {
            "cell_type": "markdown",
            "metadata": {},
            "source": "I want to become Data Analyst/Data scientist."
        },
        {
            "cell_type": "markdown",
            "metadata": {},
            "source": "*I am interested in data science because it brings in skill sets and knowledge from various backgrounds such as mathematics, statistics, Analytics, modelling and business acumen. These skill helps to achieve better results and empower everytning we're doing.*"
        },
        {
            "cell_type": "markdown",
            "metadata": {},
            "source": "### The following code adds two numbers"
        },
        {
            "cell_type": "code",
            "execution_count": 5,
            "metadata": {},
            "outputs": [
                {
                    "name": "stdout",
                    "output_type": "stream",
                    "text": "8\n"
                }
            ],
            "source": "num1 = 3\nnum2 = 5\nsum = num1 + num2\nprint(sum) # Display the sum"
        },
        {
            "cell_type": "markdown",
            "metadata": {},
            "source": "Blue\n***\nWhite\n____\n\n\n[www.Google.com](https://www.google.com)\n\n\n\n|Item | Name | Age | Sex |\n|---|---|---|---|\n|1|Tom|35|Male|\n|2|Jill|30|female|\n"
        },
        {
            "cell_type": "code",
            "execution_count": null,
            "metadata": {},
            "outputs": [],
            "source": ""
        }
    ],
    "metadata": {
        "kernelspec": {
            "display_name": "Python 3.7",
            "language": "python",
            "name": "python3"
        },
        "language_info": {
            "codemirror_mode": {
                "name": "ipython",
                "version": 3
            },
            "file_extension": ".py",
            "mimetype": "text/x-python",
            "name": "python",
            "nbconvert_exporter": "python",
            "pygments_lexer": "ipython3",
            "version": "3.7.11"
        }
    },
    "nbformat": 4,
    "nbformat_minor": 1
}